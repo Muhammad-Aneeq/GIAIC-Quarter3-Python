{
  "nbformat": 4,
  "nbformat_minor": 0,
  "metadata": {
    "colab": {
      "provenance": [],
      "authorship_tag": "ABX9TyPun5EnKGsv9bcyq/ba8JTF",
      "include_colab_link": true
    },
    "kernelspec": {
      "name": "python3",
      "display_name": "Python 3"
    },
    "language_info": {
      "name": "python"
    }
  },
  "cells": [
    {
      "cell_type": "markdown",
      "metadata": {
        "id": "view-in-github",
        "colab_type": "text"
      },
      "source": [
        "<a href=\"https://colab.research.google.com/github/Muhammad-Aneeq/GIAIC-Quarter3-Python/blob/main/Class03.ipynb\" target=\"_parent\"><img src=\"https://colab.research.google.com/assets/colab-badge.svg\" alt=\"Open In Colab\"/></a>"
      ]
    },
    {
      "cell_type": "markdown",
      "source": [
        "1- Error handling\n",
        "\n",
        "2- Short hand If Else / Ternary\n",
        "\n",
        "3- Higher Order Functions\n",
        "\n",
        "4- Lambda Functions\n",
        "\n",
        "5- Recursion\n",
        "\n",
        "6- Enumarated\n"
      ],
      "metadata": {
        "id": "yB58Wmd9OcRe"
      }
    },
    {
      "cell_type": "code",
      "execution_count": null,
      "metadata": {
        "colab": {
          "base_uri": "https://localhost:8080/",
          "height": 211
        },
        "id": "rQWkGXhpNE5p",
        "outputId": "cd79469e-55bf-45ff-f13f-b01b6bfd0c9b"
      },
      "outputs": [
        {
          "output_type": "error",
          "ename": "IndexError",
          "evalue": "list index out of range",
          "traceback": [
            "\u001b[0;31m---------------------------------------------------------------------------\u001b[0m",
            "\u001b[0;31mIndexError\u001b[0m                                Traceback (most recent call last)",
            "\u001b[0;32m<ipython-input-2-9fa626685c93>\u001b[0m in \u001b[0;36m<cell line: 0>\u001b[0;34m()\u001b[0m\n\u001b[1;32m      1\u001b[0m \u001b[0mdishes\u001b[0m \u001b[0;34m=\u001b[0m \u001b[0;34m[\u001b[0m\u001b[0;34m\"samose\"\u001b[0m\u001b[0;34m,\u001b[0m \u001b[0;34m\"pakore\"\u001b[0m\u001b[0;34m,\u001b[0m \u001b[0;34m\"fruit chat\"\u001b[0m\u001b[0;34m]\u001b[0m\u001b[0;34m\u001b[0m\u001b[0;34m\u001b[0m\u001b[0m\n\u001b[1;32m      2\u001b[0m \u001b[0;34m\u001b[0m\u001b[0m\n\u001b[0;32m----> 3\u001b[0;31m \u001b[0mprint\u001b[0m\u001b[0;34m(\u001b[0m\u001b[0mdishes\u001b[0m\u001b[0;34m[\u001b[0m\u001b[0;36m4\u001b[0m\u001b[0;34m]\u001b[0m\u001b[0;34m)\u001b[0m\u001b[0;34m\u001b[0m\u001b[0;34m\u001b[0m\u001b[0m\n\u001b[0m\u001b[1;32m      4\u001b[0m \u001b[0;34m\u001b[0m\u001b[0m\n\u001b[1;32m      5\u001b[0m \u001b[0mprint\u001b[0m\u001b[0;34m(\u001b[0m\u001b[0;34m\"work done\"\u001b[0m\u001b[0;34m)\u001b[0m\u001b[0;34m\u001b[0m\u001b[0;34m\u001b[0m\u001b[0m\n",
            "\u001b[0;31mIndexError\u001b[0m: list index out of range"
          ]
        }
      ],
      "source": [
        "dishes = [\"samose\", \"pakore\", \"fruit chat\"]\n",
        "\n",
        "print(dishes[4])\n",
        "\n",
        "print(\"work done\")"
      ]
    },
    {
      "cell_type": "code",
      "source": [
        "dishes = [\"samose\", \"pakore\", \"fruit chat\"]\n",
        "\n",
        "try:\n",
        "  print(dishes[4])\n",
        "except:\n",
        "  print(\"dish not found\")\n",
        "\n",
        "print(\"work done\")"
      ],
      "metadata": {
        "colab": {
          "base_uri": "https://localhost:8080/"
        },
        "id": "ysHjirZBQTwO",
        "outputId": "4dfbf6d0-19bf-46f7-e281-b2fc5096e328"
      },
      "execution_count": null,
      "outputs": [
        {
          "output_type": "stream",
          "name": "stdout",
          "text": [
            "dish not found\n",
            "work done\n"
          ]
        }
      ]
    },
    {
      "cell_type": "code",
      "source": [
        "dishes = [\"samose\", \"pakore\", \"fruit chat\"]\n",
        "\n",
        "try:\n",
        "  print(dishes[4])\n",
        "except Exception as error:\n",
        "  print(f\"Exception: {Exception}\")\n",
        "  print(f\"error is {error}\")\n",
        "\n",
        "print(\"work done\")"
      ],
      "metadata": {
        "colab": {
          "base_uri": "https://localhost:8080/"
        },
        "id": "Vt6BxS2ORCmB",
        "outputId": "a1fcac1a-bab4-4298-ad40-44c2b9a7d18a"
      },
      "execution_count": null,
      "outputs": [
        {
          "output_type": "stream",
          "name": "stdout",
          "text": [
            "Exception: <class 'Exception'>\n",
            "error is list index out of range\n",
            "work done\n"
          ]
        }
      ]
    },
    {
      "cell_type": "code",
      "source": [
        "num = 10\n",
        "try:\n",
        "  print(num/0)\n",
        "except ZeroDivisionError:\n",
        "    print(\"can't divide by zero\")\n",
        "\n",
        "print(\"work done\")"
      ],
      "metadata": {
        "colab": {
          "base_uri": "https://localhost:8080/"
        },
        "id": "usJTcLU5RtvG",
        "outputId": "7936dc59-2d97-46a1-cd02-d229f135d208"
      },
      "execution_count": null,
      "outputs": [
        {
          "output_type": "stream",
          "name": "stdout",
          "text": [
            "can't divide by zero\n",
            "work done\n"
          ]
        }
      ]
    },
    {
      "cell_type": "code",
      "source": [
        "dishes = [\"samose\", \"pakore\", \"fruit chat\"]\n",
        "\n",
        "try:\n",
        "  print(dishes[4])\n",
        "except ZeroDivisionError:\n",
        "  print(\"zerio division error\")\n",
        "except Exception as error:\n",
        "  print(f\"Exception: {Exception}\")\n",
        "  print(\"something went wrong\")\n",
        "\n",
        "\n",
        "print(\"work done\")"
      ],
      "metadata": {
        "colab": {
          "base_uri": "https://localhost:8080/"
        },
        "id": "NMZ1z9TySQxR",
        "outputId": "0160ac9a-9fee-45c3-c641-317fa36ccd2d"
      },
      "execution_count": null,
      "outputs": [
        {
          "output_type": "stream",
          "name": "stdout",
          "text": [
            "Exception: <class 'Exception'>\n",
            "something went wrong\n",
            "work done\n"
          ]
        }
      ]
    },
    {
      "cell_type": "code",
      "source": [
        "\n",
        "isRaining = True\n",
        "\n",
        "if isRaining:\n",
        "  print(\"school ki chutti\")\n",
        "else:\n",
        "  print(\"chalo shaba school!\")"
      ],
      "metadata": {
        "colab": {
          "base_uri": "https://localhost:8080/"
        },
        "id": "7hUARsOvTS2c",
        "outputId": "2d23d79e-8625-4a4d-8a41-25cf6c69c099"
      },
      "execution_count": null,
      "outputs": [
        {
          "output_type": "stream",
          "name": "stdout",
          "text": [
            "school ki chutti\n"
          ]
        }
      ]
    },
    {
      "cell_type": "code",
      "source": [
        "isRaining = True\n",
        "# if condition:\n",
        "#   if statement\n",
        "\n",
        "# else:\n",
        "#  else statement\n",
        "\n",
        "# ifstatement if condition else elsestatement\n",
        "print(\"school ki chutti\") if isRaining else print(\"chalo shaba school!\")\n",
        "\n",
        "num = 5\n",
        "\n",
        "num2 = 10 if num <= 5 else 20\n",
        "print(num2)"
      ],
      "metadata": {
        "colab": {
          "base_uri": "https://localhost:8080/",
          "height": 106
        },
        "id": "aPQmhsuaUWGD",
        "outputId": "f4158659-0f07-40fb-8cf3-6ad816dbecb9"
      },
      "execution_count": null,
      "outputs": [
        {
          "output_type": "error",
          "ename": "SyntaxError",
          "evalue": "expected 'else' after 'if' expression (<ipython-input-19-3d545030c44b>, line 9)",
          "traceback": [
            "\u001b[0;36m  File \u001b[0;32m\"<ipython-input-19-3d545030c44b>\"\u001b[0;36m, line \u001b[0;32m9\u001b[0m\n\u001b[0;31m    print(\"school ki chutti\") if isRaining\u001b[0m\n\u001b[0m    ^\u001b[0m\n\u001b[0;31mSyntaxError\u001b[0m\u001b[0;31m:\u001b[0m expected 'else' after 'if' expression\n"
          ]
        }
      ]
    },
    {
      "cell_type": "code",
      "source": [
        "isRaining = False\n",
        "\n",
        "if isRaining:\n",
        "  print(\"school ki chutti\")\n"
      ],
      "metadata": {
        "id": "ugA6OqMBV26t"
      },
      "execution_count": null,
      "outputs": []
    },
    {
      "cell_type": "code",
      "source": [
        "# Higher Order Function\n",
        "numbers = [1,2,3,4,5]\n",
        "new_list = []\n",
        "def squre(num):\n",
        "   return num*num\n",
        "for num in numbers:\n",
        "  sqr_num = squre(num)\n",
        "  new_list.append(sqr_num)\n",
        "\n",
        "print(new_list)\n",
        "\n"
      ],
      "metadata": {
        "colab": {
          "base_uri": "https://localhost:8080/"
        },
        "id": "nMxYLVxeWWqp",
        "outputId": "c013f65f-a159-4c43-a82e-5c37c55b82a0"
      },
      "execution_count": null,
      "outputs": [
        {
          "output_type": "stream",
          "name": "stdout",
          "text": [
            "[1, 4, 9, 16, 25]\n"
          ]
        }
      ]
    },
    {
      "cell_type": "code",
      "source": [
        "numbers = [1,2,3,4,5]\n",
        "def squre(num):\n",
        "   return num*num\n",
        "sqr_list = list(map(squre,numbers))\n",
        "print(sqr_list)"
      ],
      "metadata": {
        "colab": {
          "base_uri": "https://localhost:8080/"
        },
        "id": "bcZgr6RJY4bs",
        "outputId": "d2c3e1d4-3143-4550-9d72-eed88f1b78b1"
      },
      "execution_count": null,
      "outputs": [
        {
          "output_type": "stream",
          "name": "stdout",
          "text": [
            "[1, 4, 9, 16, 25]\n"
          ]
        }
      ]
    },
    {
      "cell_type": "code",
      "source": [
        "numbers = [1,2,3,4,5]\n",
        "def filter_condtion(num):\n",
        "     return num > 3\n",
        "filter_list = list(filter(filter_condtion,numbers))\n",
        "print(filter_list)"
      ],
      "metadata": {
        "colab": {
          "base_uri": "https://localhost:8080/"
        },
        "id": "EuPzRM81ZkZC",
        "outputId": "e817bf04-f738-428e-83f6-5d3f8e34deaf"
      },
      "execution_count": null,
      "outputs": [
        {
          "output_type": "stream",
          "name": "stdout",
          "text": [
            "[4, 5]\n"
          ]
        }
      ]
    },
    {
      "cell_type": "code",
      "source": [
        "numbers = [1,2,3,4,5]\n",
        "def filter_condtion(num):\n",
        "     return num > 3 # True / False\n",
        "filter_list = list(map(filter_condtion,numbers))\n",
        "print(filter_list)"
      ],
      "metadata": {
        "colab": {
          "base_uri": "https://localhost:8080/"
        },
        "id": "6qKf9vyYaEvM",
        "outputId": "5404f168-6256-4917-9298-67d1279812ce"
      },
      "execution_count": null,
      "outputs": [
        {
          "output_type": "stream",
          "name": "stdout",
          "text": [
            "[False, False, False, True, True]\n"
          ]
        }
      ]
    },
    {
      "cell_type": "code",
      "source": [
        "def add(x,y):\n",
        "  return x+ y\n",
        "print(add(5,2))\n",
        "sqr = lambda x : x * x\n",
        "print(sqr(5))"
      ],
      "metadata": {
        "colab": {
          "base_uri": "https://localhost:8080/"
        },
        "id": "5HnkyvKDaOkY",
        "outputId": "c6d73240-8c07-48b8-bdd0-47c335c88361"
      },
      "execution_count": null,
      "outputs": [
        {
          "output_type": "stream",
          "name": "stdout",
          "text": [
            "7\n",
            "25\n"
          ]
        }
      ]
    },
    {
      "cell_type": "code",
      "source": [],
      "metadata": {
        "id": "8_k3X0GVcWf0"
      },
      "execution_count": null,
      "outputs": []
    }
  ]
}