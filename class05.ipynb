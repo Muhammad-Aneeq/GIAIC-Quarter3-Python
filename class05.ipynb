{
  "nbformat": 4,
  "nbformat_minor": 0,
  "metadata": {
    "colab": {
      "provenance": [],
      "authorship_tag": "ABX9TyOmgynWL1SLwdDcq1yQ/PnU",
      "include_colab_link": true
    },
    "kernelspec": {
      "name": "python3",
      "display_name": "Python 3"
    },
    "language_info": {
      "name": "python"
    }
  },
  "cells": [
    {
      "cell_type": "markdown",
      "metadata": {
        "id": "view-in-github",
        "colab_type": "text"
      },
      "source": [
        "<a href=\"https://colab.research.google.com/github/Muhammad-Aneeq/GIAIC-Quarter3-Python/blob/main/class05.ipynb\" target=\"_parent\"><img src=\"https://colab.research.google.com/assets/colab-badge.svg\" alt=\"Open In Colab\"/></a>"
      ]
    },
    {
      "cell_type": "code",
      "execution_count": null,
      "metadata": {
        "colab": {
          "base_uri": "https://localhost:8080/"
        },
        "id": "graUc7btu-TV",
        "outputId": "a25a7ce9-16bf-4c28-b58b-0b820dc38b22"
      },
      "outputs": [
        {
          "output_type": "stream",
          "name": "stdout",
          "text": [
            "Person Constructor\n",
            "self>>> <__main__.Person object at 0x78af7e15ee90>\n",
            "Ali 25\n"
          ]
        }
      ],
      "source": [
        "class Person:\n",
        "  # name: str = \"Ali\"\n",
        "  # age: int = 25\n",
        "\n",
        "  def __init__(self, user_name, user_age):\n",
        "    # print(\"Person Constructor\")\n",
        "    # print(\"self>>>\",self)\n",
        "    self.name = user_name\n",
        "    self.age = user_age\n",
        "\n",
        "  def get_data(self):\n",
        "      return f\"{self.name} {self.age}\"\n",
        "\n",
        "\n",
        "\n",
        "person1: Person = Person(\"Ali\", 25)\n",
        "print(person1.get_data())"
      ]
    },
    {
      "cell_type": "code",
      "source": [
        "class Person:\n",
        "  # name: str = \"Ali\"\n",
        "  # age: int = 25\n",
        "\n",
        "  def __init__(self, user_name, user_age):\n",
        "    # print(\"Person Constructor\")\n",
        "    # print(\"self>>>\",self)\n",
        "    self.name = user_name\n",
        "    self.__age = user_age\n",
        "    self.__location = \"Home\"\n",
        "    self.__transport_methods = [\"car\", \"bus\", \"bicycle\"]\n",
        "\n",
        "  def get_data(self):\n",
        "      return f\"{self.name} {self._age}\"\n",
        "\n",
        "  def get_age(self):\n",
        "    return self.__age\n",
        "\n",
        "  def set_age(self,age):\n",
        "     self.__age = age\n",
        "\n",
        "  def commutte_to(self, destination):\n",
        "    transport = self.__choose_best_transport(destination)\n",
        "    print(f\"{self.name} is going to {destination} by {transport}.\")\n",
        "    self.__location = destination\n",
        "\n",
        "  def __choose_best_transport(self, destination):\n",
        "    if destination == \"gov house\":\n",
        "      return \"car\"\n",
        "    elif destination == \"gym\":\n",
        "      return \"bicycle\"\n",
        "    else:\n",
        "      return \"bus\"\n",
        "\n",
        "\n",
        "person1: Person = Person(\"Ali\", 25)\n",
        "print(person1.get_age())\n",
        "person1.commutte_to(\"gov house\")\n"
      ],
      "metadata": {
        "colab": {
          "base_uri": "https://localhost:8080/"
        },
        "id": "Uq2ijElQvQWE",
        "outputId": "e1fb1e36-d7cb-4a1f-beb0-002d2c883e1f"
      },
      "execution_count": null,
      "outputs": [
        {
          "output_type": "stream",
          "name": "stdout",
          "text": [
            "25\n",
            "Ali is going to gov house by car.\n"
          ]
        }
      ]
    },
    {
      "cell_type": "code",
      "source": [
        "class Person:\n",
        "  # name: str = \"Ali\"\n",
        "  # age: int = 25\n",
        "\n",
        "  def __init__(self, user_name, user_age):\n",
        "    # print(\"Person Constructor\")\n",
        "    # print(\"self>>>\",self)\n",
        "    self.name = user_name\n",
        "    self.__age = user_age\n",
        "    self.__location = \"Home\"\n",
        "    self.__transport_methods = [\"car\", \"bus\", \"bicycle\"]\n",
        "\n",
        "  def work():\n",
        "    print(\"person is working\")\n",
        "\n",
        "\n",
        "\n",
        "class Teacher(Person):\n",
        "\n",
        "  def __init__(self, slot) -> None:\n",
        "    print(\"Teacher Constructor\")\n",
        "    print(\"slot\",slot)\n",
        "    super().__init__(\"Ali\", 25)\n",
        "\n",
        "  def work(self):\n",
        "    print(\"Teacher is teaching\")\n",
        "\n",
        "\n",
        "\n",
        "class Student(Person):\n",
        "\n",
        "  def __init__(self, slot) -> None:\n",
        "    print(\"Student Constructor\")\n",
        "    print(\"slot\",slot)\n",
        "    super().__init__(\"Ali\", 25)\n",
        "\n",
        "  def work(self):\n",
        "    print(\"Student is learning\")\n",
        "\n",
        "\n",
        "teacher1: Teacher = Teacher(\"Sat 7 to 10\")\n",
        "student1: Student = Student(\"Sat 7 to 10\")\n",
        "print(teacher1.name)\n",
        "teacher1.work()\n",
        "student1.work()"
      ],
      "metadata": {
        "colab": {
          "base_uri": "https://localhost:8080/"
        },
        "id": "yf9ip_bYxHes",
        "outputId": "3bfae24c-0358-41d2-eb52-d75e74f160d7"
      },
      "execution_count": null,
      "outputs": [
        {
          "output_type": "stream",
          "name": "stdout",
          "text": [
            "Teacher Constructor\n",
            "slot Sat 7 to 10\n",
            "Student Constructor\n",
            "slot Sat 7 to 10\n",
            "Ali\n",
            "Teacher is teaching\n",
            "Student is learning\n"
          ]
        }
      ]
    },
    {
      "cell_type": "code",
      "source": [
        "Q"
      ],
      "metadata": {
        "id": "qffHEHBO0DSz"
      },
      "execution_count": null,
      "outputs": []
    }
  ]
}