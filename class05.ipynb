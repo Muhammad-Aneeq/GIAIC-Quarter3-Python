{
  "nbformat": 4,
  "nbformat_minor": 0,
  "metadata": {
    "colab": {
      "provenance": [],
      "authorship_tag": "ABX9TyPQUOHu5qlkEj3tnqjjlCDs",
      "include_colab_link": true
    },
    "kernelspec": {
      "name": "python3",
      "display_name": "Python 3"
    },
    "language_info": {
      "name": "python"
    }
  },
  "cells": [
    {
      "cell_type": "markdown",
      "metadata": {
        "id": "view-in-github",
        "colab_type": "text"
      },
      "source": [
        "<a href=\"https://colab.research.google.com/github/Muhammad-Aneeq/GIAIC-Quarter3-Python/blob/main/class05.ipynb\" target=\"_parent\"><img src=\"https://colab.research.google.com/assets/colab-badge.svg\" alt=\"Open In Colab\"/></a>"
      ]
    },
    {
      "cell_type": "code",
      "execution_count": 1,
      "metadata": {
        "id": "lAtCSyMRHy2D"
      },
      "outputs": [],
      "source": [
        "class Person:\n",
        "    #  __init__ -> dunder / magic\n",
        "    def __init__(self,user_name, user_age, roll_no): # constructor\n",
        "      # print(\"self>>>\",self)\n",
        "      self.name = user_name\n",
        "      self.age = user_age\n",
        "      self.__roll_no  = roll_no # access modifiers (public, private, protected)\n",
        "    def get_roll_no(self): # getter function\n",
        "      return self.__roll_no # -> 1234\n",
        "\n",
        "\n",
        "# instance\n",
        "# person1 = Person(\"Abdullah\",30,1234)\n",
        "# # print(\"person1.name>>>\",person1.name)\n",
        "# # print(\"person1.age>>>\",person1.age)\n",
        "# # print(\"person1.roll_no before>>>\",person1.__roll_no)\n",
        "# # print(\"person1.roll_no after>>>\",person1.__roll_no)\n",
        "# print(person1)\n",
        "\n",
        "person2 = Person(\"Ali\", 16, 3214)\n",
        "# person2.get_roll_no()\n"
      ]
    },
    {
      "cell_type": "code",
      "source": [
        "class Person:\n",
        "  # name: str = \"Ali\"\n",
        "  # age: int = 25\n",
        "\n",
        "  def __init__(self, user_name, user_age):\n",
        "    # print(\"Person Constructor\")\n",
        "    # print(\"self>>>\",self)\n",
        "    self.name = user_name\n",
        "    self.__age = user_age\n",
        "    self.__transport_methods = [\"car\", \"bus\", \"bicycle\"]\n",
        "\n",
        "  def get_data(self):\n",
        "      return f\"{self.name} {self._age}\"\n",
        "\n",
        "  def get_age(self):\n",
        "    return self.__age\n",
        "\n",
        "  def set_age(self,age):\n",
        "     self.__age = age\n",
        "\n",
        "  def commutte_to(self, destination):\n",
        "    transport = self.__choose_best_transport(destination)\n",
        "    print(f\"{self.name} is going to {destination} by {transport}.\")\n",
        "\n",
        "  def __choose_best_transport(self, destination):\n",
        "    if destination == \"gov house\":\n",
        "      return \"car\"\n",
        "    elif destination == \"gym\":\n",
        "      return \"bicycle\"\n",
        "    else:\n",
        "      return \"bus\"\n",
        "\n",
        "\n",
        "person1: Person = Person(\"Ali\", 25)\n",
        "print(person1.get_age())\n",
        "person1.commutte_to(\"gov house\")\n"
      ],
      "metadata": {
        "id": "emD-eVM8H0lj"
      },
      "execution_count": null,
      "outputs": []
    }
  ]
}