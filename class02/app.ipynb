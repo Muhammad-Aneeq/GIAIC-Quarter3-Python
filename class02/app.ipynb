{
 "cells": [
  {
   "cell_type": "markdown",
   "metadata": {},
   "source": [
    "Methods\n",
    "\n",
    "1- String Methods\n",
    "\n",
    "2- List Methods\n",
    "\n",
    "3- Dictionary Methods\n",
    "\n",
    "4 -Set Methods\n",
    "\n",
    "5- Tuple Methods"
   ]
  },
  {
   "cell_type": "code",
   "execution_count": null,
   "metadata": {},
   "outputs": [
    {
     "name": "stdout",
     "output_type": "stream",
     "text": [
      "ramzan mubarak\n"
     ]
    }
   ],
   "source": [
    "# String Methods\n",
    "\n",
    "# 1- upper\n",
    "# 2- lower\n",
    "# 3- title \n",
    "# 4 - capitalize\n",
    "# 5- strip \n",
    "# 6 - lstrip\n",
    "# 8 - rstrip\n",
    "# 9 - replace\n",
    "# 10- find \n",
    "# 11- index \n",
    "# 12 - len\n",
    "# 13- startswith\n",
    "# 14 -endswith\n",
    "# 15- split\n",
    "# 15- join"
   ]
  },
  {
   "cell_type": "code",
   "execution_count": 7,
   "metadata": {},
   "outputs": [
    {
     "name": "stdout",
     "output_type": "stream",
     "text": [
      "ANEEQ KHATRI\n",
      "aneeq khatri\n",
      "Aneeq khatri\n",
      "Aneeq Khatri\n",
      "12\n"
     ]
    }
   ],
   "source": [
    "# 1 upper\n",
    "name = \"aneeq khatri\"\n",
    "print(name.upper())\n",
    "print(name.lower())\n",
    "print(name.capitalize())\n",
    "print(name.title())\n",
    "print(len(name))"
   ]
  },
  {
   "cell_type": "code",
   "execution_count": 8,
   "metadata": {},
   "outputs": [
    {
     "name": "stdout",
     "output_type": "stream",
     "text": [
      "aneeq khatri\n",
      "aneeq khatri  \n",
      "  aneeq khatri\n"
     ]
    }
   ],
   "source": [
    "# 2 strips\n",
    "name = \"  aneeq khatri  \"\n",
    "print(name.strip())\n",
    "print(name.lstrip())\n",
    "print(name.rstrip())"
   ]
  },
  {
   "cell_type": "code",
   "execution_count": 14,
   "metadata": {},
   "outputs": [
    {
     "name": "stdout",
     "output_type": "stream",
     "text": [
      "eid mubarak\n",
      "maet\n",
      "find method -1\n"
     ]
    },
    {
     "ename": "ValueError",
     "evalue": "substring not found",
     "output_type": "error",
     "traceback": [
      "\u001b[1;31m---------------------------------------------------------------------------\u001b[0m",
      "\u001b[1;31mValueError\u001b[0m                                Traceback (most recent call last)",
      "Cell \u001b[1;32mIn[14], line 6\u001b[0m\n\u001b[0;32m      4\u001b[0m \u001b[38;5;28mprint\u001b[39m(value2\u001b[38;5;241m.\u001b[39mreplace(\u001b[38;5;124m\"\u001b[39m\u001b[38;5;124me\u001b[39m\u001b[38;5;124m\"\u001b[39m, \u001b[38;5;124m\"\u001b[39m\u001b[38;5;124ma\u001b[39m\u001b[38;5;124m\"\u001b[39m, \u001b[38;5;241m1\u001b[39m))\n\u001b[0;32m      5\u001b[0m \u001b[38;5;28mprint\u001b[39m(\u001b[38;5;124m\"\u001b[39m\u001b[38;5;124mfind method\u001b[39m\u001b[38;5;124m\"\u001b[39m,value\u001b[38;5;241m.\u001b[39mfind(\u001b[38;5;124m\"\u001b[39m\u001b[38;5;124mi\u001b[39m\u001b[38;5;124m\"\u001b[39m))\n\u001b[1;32m----> 6\u001b[0m \u001b[38;5;28mprint\u001b[39m(\u001b[38;5;124m\"\u001b[39m\u001b[38;5;124mindex method\u001b[39m\u001b[38;5;124m\"\u001b[39m, \u001b[43mvalue\u001b[49m\u001b[38;5;241;43m.\u001b[39;49m\u001b[43mindex\u001b[49m\u001b[43m(\u001b[49m\u001b[38;5;124;43m\"\u001b[39;49m\u001b[38;5;124;43mi\u001b[39;49m\u001b[38;5;124;43m\"\u001b[39;49m\u001b[43m)\u001b[49m)\n",
      "\u001b[1;31mValueError\u001b[0m: substring not found"
     ]
    }
   ],
   "source": [
    "value = \"ramzan mubarak\"\n",
    "value2= \"meet\"\n",
    "print(value.replace(\"ramzan\",\"eid\"))\n",
    "print(value2.replace(\"e\", \"a\", 1))\n",
    "print(\"find method\",value.find(\"i\"))\n",
    "print(\"index method\", value.index(\"i\"))"
   ]
  },
  {
   "cell_type": "code",
   "execution_count": null,
   "metadata": {},
   "outputs": [
    {
     "name": "stdout",
     "output_type": "stream",
     "text": [
      "False\n",
      "True\n",
      "Ramzan Mubarak\n"
     ]
    }
   ],
   "source": [
    "value = \"ramzan mubarak\"\n",
    "print(value.startswith(\"eid\"))\n",
    "print(value.endswith(\"mubarak\"))\n",
    "# if  True\n",
    "if value.startswith(\"ramzan\"):\n",
    "    print(\"Ramzan Mubarak\")\n",
    "else:\n",
    "    print(\"Eid Mubarak\")    "
   ]
  },
  {
   "cell_type": "code",
   "execution_count": 21,
   "metadata": {},
   "outputs": [
    {
     "name": "stdout",
     "output_type": "stream",
     "text": [
      "['jan', 'feb', 'mar', 'apr', 'may', 'jun']\n",
      "jan feb mar apr may jun\n"
     ]
    }
   ],
   "source": [
    "value = \"jan,feb,mar,apr,may,jun\"\n",
    "print(value.split(\",\"))\n",
    "list = ['jan', 'feb', 'mar', 'apr', 'may', 'jun']\n",
    "print(\" \".join(list))\n"
   ]
  },
  {
   "cell_type": "code",
   "execution_count": 22,
   "metadata": {},
   "outputs": [],
   "source": [
    "# List Methods\n",
    "# 1- append\n",
    "# 2- insert\n",
    "# 3- extend\n",
    "# 4- pop \n",
    "# 5- sort \n",
    "# 6 - remove \n",
    "# 7- reverse\n",
    "# 8- copy"
   ]
  },
  {
   "cell_type": "code",
   "execution_count": null,
   "metadata": {},
   "outputs": [
    {
     "name": "stdout",
     "output_type": "stream",
     "text": [
      "append ['jan', 'feb', 'mar', 'apr', 'may', 'jun', 'july']\n",
      "insert ['dec', 'jan', 'feb', 'mar', 'apr', 'may', 'jun', 'july']\n"
     ]
    }
   ],
   "source": [
    "list = ['jan', 'feb', 'mar', 'apr', 'may', 'jun']\n",
    "list.append(\"july\")\n",
    "print(\"append\",list)\n",
    "list.insert(0, \"dec\")\n",
    "print(\"insert\",list)\n",
    "\n"
   ]
  },
  {
   "cell_type": "code",
   "execution_count": null,
   "metadata": {},
   "outputs": [
    {
     "ename": "TypeError",
     "evalue": "'str' object cannot be interpreted as an integer",
     "output_type": "error",
     "traceback": [
      "\u001b[1;31m---------------------------------------------------------------------------\u001b[0m",
      "\u001b[1;31mTypeError\u001b[0m                                 Traceback (most recent call last)",
      "Cell \u001b[1;32mIn[26], line 2\u001b[0m\n\u001b[0;32m      1\u001b[0m \u001b[38;5;28mlist\u001b[39m \u001b[38;5;241m=\u001b[39m [\u001b[38;5;124m'\u001b[39m\u001b[38;5;124mjan\u001b[39m\u001b[38;5;124m'\u001b[39m, \u001b[38;5;124m'\u001b[39m\u001b[38;5;124mfeb\u001b[39m\u001b[38;5;124m'\u001b[39m, \u001b[38;5;124m'\u001b[39m\u001b[38;5;124mmar\u001b[39m\u001b[38;5;124m'\u001b[39m, \u001b[38;5;124m'\u001b[39m\u001b[38;5;124mapr\u001b[39m\u001b[38;5;124m'\u001b[39m, \u001b[38;5;124m'\u001b[39m\u001b[38;5;124mmay\u001b[39m\u001b[38;5;124m'\u001b[39m, \u001b[38;5;124m'\u001b[39m\u001b[38;5;124mjun\u001b[39m\u001b[38;5;124m'\u001b[39m]\n\u001b[1;32m----> 2\u001b[0m removed_item \u001b[38;5;241m=\u001b[39m \u001b[38;5;28;43mlist\u001b[39;49m\u001b[38;5;241;43m.\u001b[39;49m\u001b[43mpop\u001b[49m\u001b[43m(\u001b[49m\u001b[38;5;124;43m\"\u001b[39;49m\u001b[38;5;124;43mfeb\u001b[39;49m\u001b[38;5;124;43m\"\u001b[39;49m\u001b[43m)\u001b[49m  \n\u001b[0;32m      3\u001b[0m \u001b[38;5;28mprint\u001b[39m(\u001b[38;5;124m\"\u001b[39m\u001b[38;5;124mremoved_item>>>\u001b[39m\u001b[38;5;124m\"\u001b[39m,removed_item)\n",
      "\u001b[1;31mTypeError\u001b[0m: 'str' object cannot be interpreted as an integer"
     ]
    }
   ],
   "source": [
    "list = ['jan', 'feb', 'mar', 'apr', 'may', 'jun']\n",
    "removed_item = list.pop(\"\")  \n",
    "print(\"removed_item>>>\",removed_item)"
   ]
  },
  {
   "cell_type": "code",
   "execution_count": 30,
   "metadata": {},
   "outputs": [
    {
     "name": "stdout",
     "output_type": "stream",
     "text": [
      "list1>> ['jan', 'feb', 'mar', 'apr', 'may', 'jun', 'jul', 'aug', 'sep', 'oct', 'nov', 'dec']\n",
      "list3>>> ['jan', 'feb', 'mar', 'apr', 'may', 'jun', 'jul', 'aug', 'sep', 'oct', 'nov', 'dec', 'jul', 'aug', 'sep', 'oct', 'nov', 'dec']\n"
     ]
    }
   ],
   "source": [
    "list1 = ['jan', 'feb', 'mar', 'apr', 'may', 'jun']\n",
    "list2 = ['jul', 'aug', 'sep', 'oct', 'nov', 'dec']\n",
    "\n",
    "list1.extend(list2)\n",
    "print(\"list1>>\",list1)\n",
    "\n",
    "list3 = list1 + list2\n",
    "print(\"list3>>>\",list3)"
   ]
  },
  {
   "cell_type": "code",
   "execution_count": null,
   "metadata": {},
   "outputs": [
    {
     "name": "stdout",
     "output_type": "stream",
     "text": [
      "sort desc [9, 8, 5, 3, 2, 1, 0]\n",
      "reversed [0, 1, 2, 3, 5, 8, 9]\n"
     ]
    }
   ],
   "source": [
    "list = [5,8,9,0,1,2,3]\n",
    "list.sort()\n",
    "# print(\"sort asc\",list)\n",
    "list.sort(reverse=True)\n",
    "print(\"sort desc\",list)\n",
    "list.reverse()\n",
    "print(\"reversed\",list)"
   ]
  },
  {
   "cell_type": "code",
   "execution_count": 37,
   "metadata": {},
   "outputs": [
    {
     "name": "stdout",
     "output_type": "stream",
     "text": [
      "list>> [5, 8, 9, 0, 2, 3]\n"
     ]
    }
   ],
   "source": [
    "list = [5,8,9,0,1,2,3]\n",
    "\n",
    "list.remove(1)\n",
    "print(\"list>>\",list)"
   ]
  },
  {
   "cell_type": "code",
   "execution_count": null,
   "metadata": {},
   "outputs": [
    {
     "name": "stdout",
     "output_type": "stream",
     "text": [
      "list>> [5, 8, 9, 0, 1, 2, 3]\n",
      "list3>>> [5, 9, 1, 3]\n"
     ]
    }
   ],
   "source": [
    "list = [5,8,9,0,1,2,3]\n",
    "\n",
    "list2 = list.copy()\n",
    "print(\"list>>\",list2)\n",
    "#        list[start: end, step]  -> (start(inclusive), end(exclusive))\n",
    "# list3  = list[0:7]\n",
    "list3  = list[0:7:2]\n",
    "\n",
    "print(\"list3>>>\",list3)"
   ]
  },
  {
   "cell_type": "code",
   "execution_count": null,
   "metadata": {},
   "outputs": [],
   "source": [
    "# Dictionary Methods\n",
    "# update\n",
    "# pop \n",
    "# popitem \n",
    "# get \n",
    "# keys\n",
    "# values \n",
    "# items \n",
    "# del\n"
   ]
  },
  {
   "cell_type": "code",
   "execution_count": 46,
   "metadata": {},
   "outputs": [
    {
     "name": "stdout",
     "output_type": "stream",
     "text": [
      " updated student {'name': 'Ali', 'age': 20, 'roll no': 1234}\n",
      "pop>> 20\n",
      "popitem>> ('roll no', 1234)\n"
     ]
    }
   ],
   "source": [
    "# Dictionary Methods\n",
    "student= {\"name\": \"Ali\",\"age\": 20}\n",
    "\n",
    "student.update({\"roll no\": 1234})\n",
    "print(\" updated student\",student)\n",
    "\n",
    "\n",
    "print(\"pop>>\",student.pop(\"age\"))\n",
    "print(\"popitem>>\",student.popitem())\n",
    "\n",
    "\n"
   ]
  },
  {
   "cell_type": "code",
   "execution_count": null,
   "metadata": {},
   "outputs": [
    {
     "name": "stdout",
     "output_type": "stream",
     "text": [
      "keys dict_keys(['name', 'age'])\n",
      "values dict_values(['Ali', 20])\n",
      "items dict_items([('name', 'Ali'), ('age', 20)])\n",
      "a name\n",
      "b Ali\n",
      "a age\n",
      "b 20\n"
     ]
    }
   ],
   "source": [
    "student= {\"name\": \"Ali\",\"age\": 20}\n",
    "\n",
    "print(\"keys\",student.keys())\n",
    "print(\"values\",student.values())\n",
    "print(\"items\",student.items())\n",
    "#   ('name', 'Ali') [('name', 'Ali'), ('age', 20)]\n",
    "for tup in student.items():\n",
    "    # print(\"tuple>>>\",t)\n",
    "    # const {a,b} = {a,b,c}\n",
    "    a,b = tup\n",
    "    # name, Ali =('name', 'Ali')\n",
    "    a,b = tup\n",
    "    print(\"a\",a)\n",
    "    print(\"b\",b)\n",
    "\n",
    "    # print(f\"item key:{k} and value:{value}\")\n"
   ]
  }
 ],
 "metadata": {
  "kernelspec": {
   "display_name": "Python 3",
   "language": "python",
   "name": "python3"
  },
  "language_info": {
   "codemirror_mode": {
    "name": "ipython",
    "version": 3
   },
   "file_extension": ".py",
   "mimetype": "text/x-python",
   "name": "python",
   "nbconvert_exporter": "python",
   "pygments_lexer": "ipython3",
   "version": "3.11.9"
  }
 },
 "nbformat": 4,
 "nbformat_minor": 2
}
